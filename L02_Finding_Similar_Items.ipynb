{
  "nbformat": 4,
  "nbformat_minor": 0,
  "metadata": {
    "colab": {
      "provenance": [],
      "authorship_tag": "ABX9TyN/CtRti8Gn5M8QDBZ3JDae",
      "include_colab_link": true
    },
    "kernelspec": {
      "name": "python3",
      "display_name": "Python 3"
    },
    "language_info": {
      "name": "python"
    }
  },
  "cells": [
    {
      "cell_type": "markdown",
      "metadata": {
        "id": "view-in-github",
        "colab_type": "text"
      },
      "source": [
        "<a href=\"https://colab.research.google.com/github/clustering-jun/KMU-Recommender_Systems/blob/main/L02_Finding_Similar_Items.ipynb\" target=\"_parent\"><img src=\"https://colab.research.google.com/assets/colab-badge.svg\" alt=\"Open In Colab\"/></a>"
      ]
    },
    {
      "cell_type": "markdown",
      "source": [
        "# **Finding Similar Items Practice**"
      ],
      "metadata": {
        "id": "xXLCvW1WzmSa"
      }
    },
    {
      "cell_type": "markdown",
      "source": [
        "## **MovieLens Dataset**\n",
        "- 영화 추천 서비스 movielens.org 에서 수집한 영화 별점 데이터셋\n",
        "- https://grouplens.org/datasets/moivelens/\n",
        "- MovieLens 25M Dataset 파일 목록\n",
        "\n",
        "| 파일명             | 설명                        | 형태                                     |\n",
        "|--------------------|-----------------------------|------------------------------------------|\n",
        "| ratings.csv        | 유저가 영화에 매긴 별점     | userId, movieId, rating, timestamp          |\n",
        "| tags.csv           | 유저가 영화에 매긴 태그     | userId, movieId, tag, timestamp             |\n",
        "| movies.csv         | 영화 목록                   | movieId, title, genres                     |\n",
        "| links.csv          | imdb, tmdb 정보             | movieId, imdbId, tmdbId                     |\n",
        "| genome-tags.csv    | 태그 목록                   | tagId, tag                                |\n",
        "| genome-score.csv   | 영화와 태그 사이의 관련도   | movieId, tagId, relevance                  |\n",
        "\n"
      ],
      "metadata": {
        "id": "YGTHtkppzxRq"
      }
    },
    {
      "cell_type": "markdown",
      "source": [
        "### **데이터셋 다운로드**\n",
        "- wget: url로부터 파일을 다운로드 받는 쉘 명령어\n",
        "- unzip: zip 압축 파일을 해제하는 쉘 명령어"
      ],
      "metadata": {
        "id": "8o-bZ7Sz0j-h"
      }
    },
    {
      "cell_type": "code",
      "source": [
        "!wget https://files.grouplens.org/datasets/movielens/ml-25m.zip\n",
        "!unzip ml-25m.zip"
      ],
      "metadata": {
        "colab": {
          "base_uri": "https://localhost:8080/"
        },
        "id": "m_BaDiRQqd23",
        "outputId": "c089af37-645a-49bc-bced-154be73d9c32"
      },
      "execution_count": 2,
      "outputs": [
        {
          "output_type": "stream",
          "name": "stdout",
          "text": [
            "--2025-08-11 05:52:09--  https://files.grouplens.org/datasets/movielens/ml-25m.zip\n",
            "Resolving files.grouplens.org (files.grouplens.org)... 128.101.65.152\n",
            "Connecting to files.grouplens.org (files.grouplens.org)|128.101.65.152|:443... connected.\n",
            "HTTP request sent, awaiting response... 200 OK\n",
            "Length: 261978986 (250M) [application/zip]\n",
            "Saving to: ‘ml-25m.zip’\n",
            "\n",
            "ml-25m.zip          100%[===================>] 249.84M   121MB/s    in 2.1s    \n",
            "\n",
            "2025-08-11 05:52:11 (121 MB/s) - ‘ml-25m.zip’ saved [261978986/261978986]\n",
            "\n",
            "Archive:  ml-25m.zip\n",
            "   creating: ml-25m/\n",
            "  inflating: ml-25m/tags.csv         \n",
            "  inflating: ml-25m/links.csv        \n",
            "  inflating: ml-25m/README.txt       \n",
            "  inflating: ml-25m/ratings.csv      \n",
            "  inflating: ml-25m/genome-tags.csv  \n",
            "  inflating: ml-25m/genome-scores.csv  \n",
            "  inflating: ml-25m/movies.csv       \n"
          ]
        }
      ]
    },
    {
      "cell_type": "code",
      "source": [
        "!head ml-25m/ratings.csv"
      ],
      "metadata": {
        "colab": {
          "base_uri": "https://localhost:8080/"
        },
        "id": "oLu-_mdjseKP",
        "outputId": "d198c48a-f549-4498-ee04-91022d895bfc"
      },
      "execution_count": 1,
      "outputs": [
        {
          "output_type": "stream",
          "name": "stdout",
          "text": [
            "userId,movieId,rating,timestamp\r\n",
            "1,296,5.0,1147880044\r\n",
            "1,306,3.5,1147868817\r\n",
            "1,307,5.0,1147868828\r\n",
            "1,665,5.0,1147878820\r\n",
            "1,899,3.5,1147868510\r\n",
            "1,1088,4.0,1147868495\r\n",
            "1,1175,3.5,1147868826\r\n",
            "1,1217,3.5,1147878326\r\n",
            "1,1237,5.0,1147868839\r\n"
          ]
        }
      ]
    },
    {
      "cell_type": "markdown",
      "source": [
        "### **movies.csv**\n",
        "- 영화 제목(moives)과 장르(genresets) 불러오기\n",
        " - csv(comma separated values) 파일: 값들을 쉼표로 구분한 텍스트 파일"
      ],
      "metadata": {
        "id": "gv4ZSf0Pr643"
      }
    },
    {
      "cell_type": "code",
      "source": [
        "import csv\n",
        "\n",
        "titles = {}\n",
        "genresets = {}\n",
        "\n",
        "with open('ml-25m/movies.csv', 'r') as f:\n",
        "    print(f.readline())\n",
        "    # next(csvreader) # skip column names\n",
        "\n",
        "    csvreader = csv.reader(f)\n",
        "\n",
        "    for mid, title, genres in csvreader:\n",
        "\n",
        "        titles[int(mid)] = title\n",
        "        genresets[int(mid)] = set(genres.split('|'))"
      ],
      "metadata": {
        "colab": {
          "base_uri": "https://localhost:8080/"
        },
        "id": "cExJHbnu02Xi",
        "outputId": "b5d77b27-576e-4b46-94fe-9c69a101eb1f"
      },
      "execution_count": 40,
      "outputs": [
        {
          "output_type": "stream",
          "name": "stdout",
          "text": [
            "movieId,title,genres\n",
            "\n"
          ]
        }
      ]
    },
    {
      "cell_type": "markdown",
      "source": [
        "### **장르가 유사한 영화 찾기**\n",
        "- 자카드 유사도가 가장 높은 k개의 영화 찾기"
      ],
      "metadata": {
        "id": "docImfab2i2v"
      }
    },
    {
      "cell_type": "code",
      "source": [
        "def jaccard_similarity(a,b):\n",
        "    if len(a | b) == 0: return 0\n",
        "    return len(a & b) / len(a | b)\n",
        "\n",
        "def get_topk_jaccard_genres(target_mid, k=20):\n",
        "    target_genreset = genresets[target_mid]\n",
        "\n",
        "    res = []\n",
        "\n",
        "    for mid, title in titles.items():\n",
        "        genreset = genresets[mid]\n",
        "        score = jaccard_similarity(target_genreset, genreset)\n",
        "        res.append( (score, title) )\n",
        "\n",
        "    res.sort(reverse=True)\n",
        "    return res[:k]"
      ],
      "metadata": {
        "id": "aZnBjxs23ITu"
      },
      "execution_count": 43,
      "outputs": []
    },
    {
      "cell_type": "code",
      "source": [
        "mid = 164909 # la la land\n",
        "res = get_topk_jaccard_genres(mid, 20)\n",
        "res"
      ],
      "metadata": {
        "colab": {
          "base_uri": "https://localhost:8080/"
        },
        "id": "HKskOYhVvR5N",
        "outputId": "143e12a0-683a-49c1-a2c6-55b40468e67d"
      },
      "execution_count": 44,
      "outputs": [
        {
          "output_type": "execute_result",
          "data": {
            "text/plain": [
              "[(1.0, 'Собака Павлова (2005)'),\n",
              " (1.0, 'Şabaniye (1984)'),\n",
              " (1.0, 'Zus & Zo (2001)'),\n",
              " (1.0, 'Zero (2018)'),\n",
              " (1.0, 'Zack and Miri Make a Porno (2008)'),\n",
              " (1.0, 'Youth in Revolt (2009)'),\n",
              " (1.0, 'You and the Night (2013)'),\n",
              " (1.0, 'You Stupid Man (2002)'),\n",
              " (1.0, 'You Are the Apple of My Eye (2011)'),\n",
              " (1.0, 'Yo Yo (Yoyo) (1965)'),\n",
              " (1.0, 'Yes, But... (Oui, mais...) (2001)'),\n",
              " (1.0, 'Yes Or No (2010)'),\n",
              " (1.0, 'Yellow Cab Man, The (1950)'),\n",
              " (1.0, 'Year of the Dog (2007)'),\n",
              " (1.0, 'Year by the Sea (2016)'),\n",
              " (1.0, \"X's & O's (2007)\"),\n",
              " (1.0, 'Wyjazd Integracyjny (2011)'),\n",
              " (1.0, 'World According to Garp, The (1982)'),\n",
              " (1.0, 'Working Girl (1988)'),\n",
              " (1.0, 'Words and Pictures (2013)')]"
            ]
          },
          "metadata": {},
          "execution_count": 44
        }
      ]
    },
    {
      "cell_type": "markdown",
      "source": [
        "### **다른 사용자가 함께 본 영화 찾기**\n",
        "- 시청한 사용자 집합이 유사한 영화 찾기\n",
        " - 각 영화를 사용자 집합으로 표현\n",
        " - 사용자 집합간 자카드 유사도 계산"
      ],
      "metadata": {
        "id": "hCET7nnn5l4x"
      }
    },
    {
      "cell_type": "code",
      "source": [
        "ratings = []\n",
        "\n",
        "with open('ml-25m/ratings.csv', 'r') as f:\n",
        "    print(f.readline()) # skip column names\n",
        "\n",
        "    for line in f:\n",
        "        uid, mid, rating, timestamp = line.split(',')\n",
        "        ratings.append( (int(uid), int(mid), float(rating)) )"
      ],
      "metadata": {
        "colab": {
          "base_uri": "https://localhost:8080/"
        },
        "id": "f4mNV2os5pVk",
        "outputId": "8b1ffa3b-b076-429a-900e-058d044f3805"
      },
      "execution_count": 46,
      "outputs": [
        {
          "output_type": "stream",
          "name": "stdout",
          "text": [
            "userId,movieId,rating,timestamp\n",
            "\n"
          ]
        }
      ]
    },
    {
      "cell_type": "code",
      "source": [
        "from collections import defaultdict\n",
        "\n",
        "usets = defaultdict(set)\n",
        "\n",
        "for uid, mid, rating in ratings:\n",
        "    usets[mid].add(uid)"
      ],
      "metadata": {
        "id": "O1aYTrDm6nSC"
      },
      "execution_count": 48,
      "outputs": []
    },
    {
      "cell_type": "code",
      "source": [
        "from tqdm import tqdm\n",
        "\n",
        "def get_topk_jaccard_ratings(target_mid, k=20):\n",
        "    target_uset = usets[target_mid]\n",
        "\n",
        "    res = []\n",
        "\n",
        "    for mid, title in tqdm(titles.items()):\n",
        "        uset = usets[mid]\n",
        "        score = jaccard_similarity(target_uset, uset)\n",
        "        res.append( (score, title) )\n",
        "\n",
        "    res.sort(reverse=True)\n",
        "    return res[:k]"
      ],
      "metadata": {
        "id": "3vUgfonu6eH8"
      },
      "execution_count": 52,
      "outputs": []
    },
    {
      "cell_type": "code",
      "source": [
        "mid = 112552 # whiplash\n",
        "res = get_topk_jaccard_ratings(mid, k=20)\n",
        "res"
      ],
      "metadata": {
        "colab": {
          "base_uri": "https://localhost:8080/"
        },
        "id": "EyMWAmJh65pA",
        "outputId": "067384c3-9733-4171-f609-acefa35f88c4"
      },
      "execution_count": 54,
      "outputs": [
        {
          "output_type": "stream",
          "name": "stderr",
          "text": [
            "100%|██████████| 62423/62423 [00:53<00:00, 1171.06it/s]\n"
          ]
        },
        {
          "output_type": "execute_result",
          "data": {
            "text/plain": [
              "[(1.0, 'Whiplash (2014)'),\n",
              " (0.34346657709103123, 'Gone Girl (2014)'),\n",
              " (0.33069178628389156, 'The Imitation Game (2014)'),\n",
              " (0.3202530162820663, 'Interstellar (2014)'),\n",
              " (0.31890598662389213, 'Grand Budapest Hotel, The (2014)'),\n",
              " (0.3178914625340221, 'Ex Machina (2015)'),\n",
              " (0.31770758896670004,\n",
              "  'Birdman: Or (The Unexpected Virtue of Ignorance) (2014)'),\n",
              " (0.3133357646486749, 'Her (2013)'),\n",
              " (0.312987900078064, 'Wolf of Wall Street, The (2013)'),\n",
              " (0.3059296340689558, 'Nightcrawler (2014)'),\n",
              " (0.2975845919065411, 'Mad Max: Fury Road (2015)'),\n",
              " (0.2957345586142398, 'Django Unchained (2012)'),\n",
              " (0.2737903411445145, 'The Martian (2015)'),\n",
              " (0.2668467981626587, 'Gravity (2013)'),\n",
              " (0.2627047459050819, 'Shutter Island (2010)'),\n",
              " (0.2575789399985997, 'Dallas Buyers Club (2013)'),\n",
              " (0.25711628659226915, 'Dark Knight Rises, The (2012)'),\n",
              " (0.25615628009354796, 'The Revenant (2015)'),\n",
              " (0.2561167699254437, 'Intouchables (2011)'),\n",
              " (0.25411334552102377, 'Arrival (2016)')]"
            ]
          },
          "metadata": {},
          "execution_count": 54
        }
      ]
    },
    {
      "cell_type": "markdown",
      "source": [
        "### **비슷한 평가를 받는 영화 찾기**\n",
        "- 사용자가 매긴 별점을 영화를 표현하는 벡터로 보고 피어슨 상관계수를 계산\n",
        " - **각 영화별 별점을 평균값으로 뺄셈하여 전처리**\n",
        " - 전처리한 데이터에서 코사인 유사도 계산"
      ],
      "metadata": {
        "id": "6Txv9j9G7tkj"
      }
    },
    {
      "cell_type": "code",
      "source": [
        "from collections import defaultdict\n",
        "\n",
        "ursets = defaultdict(dict)\n",
        "\n",
        "for uid, mid, rating in ratings:\n",
        "    ursets[mid][uid] = rating"
      ],
      "metadata": {
        "id": "dvfcNf-tL3z_"
      },
      "execution_count": 55,
      "outputs": []
    },
    {
      "cell_type": "code",
      "source": [
        "for mid, urset in ursets.items():\n",
        "    avg = sum(urset.values()) / len(ursets)\n",
        "    for k in urset:\n",
        "        urset[k] -= avg"
      ],
      "metadata": {
        "id": "Pii6EOdk2Cte"
      },
      "execution_count": 57,
      "outputs": []
    },
    {
      "cell_type": "code",
      "source": [
        "def cosine_similarity(a,b):\n",
        "    nu = sum(a[k] * b[k] for k in a.keys() & b.keys())\n",
        "    de = (sum(x*x for x in a.values()) * sum(x*x for x in b.values())) ** 0.5\n",
        "    if de == 0: return 0\n",
        "    return nu/de"
      ],
      "metadata": {
        "id": "bGR97rK-_Kzp"
      },
      "execution_count": 58,
      "outputs": []
    },
    {
      "cell_type": "code",
      "source": [
        "from tqdm import tqdm\n",
        "\n",
        "def get_topk_pearson_ratings(target_mid, k=20):\n",
        "    target_urset = ursets[target_mid]\n",
        "\n",
        "    res = []\n",
        "\n",
        "    for mid, title in tqdm(titles.items()):\n",
        "        urset = ursets[mid]\n",
        "        score = cosine_similarity(target_urset, urset)\n",
        "        res.append( (score, title) )\n",
        "\n",
        "    res.sort(reverse=True)\n",
        "    return res[:k]"
      ],
      "metadata": {
        "id": "SLKLRcrh_3od"
      },
      "execution_count": 59,
      "outputs": []
    },
    {
      "cell_type": "code",
      "source": [
        "mid = 59315\n",
        "res = get_topk_pearson_ratings(mid)\n",
        "res"
      ],
      "metadata": {
        "colab": {
          "base_uri": "https://localhost:8080/"
        },
        "id": "DQAeEz2BAEDi",
        "outputId": "a552a851-0b0e-4d07-999f-3313f7497bfd"
      },
      "execution_count": 61,
      "outputs": [
        {
          "output_type": "stream",
          "name": "stderr",
          "text": [
            "100%|██████████| 62423/62423 [01:22<00:00, 754.55it/s] \n"
          ]
        },
        {
          "output_type": "execute_result",
          "data": {
            "text/plain": [
              "[(1.0000000000000027, 'Iron Man (2008)'),\n",
              " (0.6145974601926216, 'Avengers, The (2012)'),\n",
              " (0.6005251725727653, 'Iron Man 2 (2010)'),\n",
              " (0.5742348976724545, 'Batman Begins (2005)'),\n",
              " (0.5732738873828683, 'Star Trek (2009)'),\n",
              " (0.571732874015334, 'Dark Knight, The (2008)'),\n",
              " (0.5373537786453846, 'Avatar (2009)'),\n",
              " (0.5357945803058293, 'Guardians of the Galaxy (2014)'),\n",
              " (0.5333849122281809, 'WALL·E (2008)'),\n",
              " (0.5286920058942817, 'Sherlock Holmes (2009)'),\n",
              " (0.5145056012122434, 'Bourne Ultimatum, The (2007)'),\n",
              " (0.5138882448400881, 'Iron Man 3 (2013)'),\n",
              " (0.5107599364470127, 'Dark Knight Rises, The (2012)'),\n",
              " (0.5081743572914865, 'Casino Royale (2006)'),\n",
              " (0.5073080570705581, 'X-Men: First Class (2011)'),\n",
              " (0.49374319715280607, 'Captain America: The First Avenger (2011)'),\n",
              " (0.492098340724142, 'Up (2009)'),\n",
              " (0.49117422130775257, 'Captain America: The Winter Soldier (2014)'),\n",
              " (0.4911455205724086, 'Inception (2010)'),\n",
              " (0.4862128987887418, 'V for Vendetta (2006)')]"
            ]
          },
          "metadata": {},
          "execution_count": 61
        }
      ]
    }
  ]
}